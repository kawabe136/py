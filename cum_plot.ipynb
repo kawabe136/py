{
 "cells": [
  {
   "cell_type": "code",
   "execution_count": 2,
   "metadata": {
    "collapsed": true
   },
   "outputs": [],
   "source": [
    "#https://qiita.com/damyarou/items/e152d1c601ad622446b4\n",
    "\n",
    "import numpy as np\n",
    "from scipy.stats import norm # normal distribution\n",
    "from scipy import optimize\n",
    "import matplotlib.pyplot as plt\n",
    "\n",
    "import pandas as pd\n",
    "from pandas import Series,DataFrame"
   ]
  },
  {
   "cell_type": "code",
   "execution_count": 3,
   "metadata": {
    "collapsed": true
   },
   "outputs": [],
   "source": [
    "dframe = pd.read_excel('cum_raw_data.xlsx', sheetname='Sheet1')"
   ]
  },
  {
   "cell_type": "code",
   "execution_count": 4,
   "metadata": {
    "collapsed": true
   },
   "outputs": [],
   "source": [
    "x = dframe['x'].values\n",
    "y = dframe['y'].values"
   ]
  },
  {
   "cell_type": "code",
   "execution_count": 5,
   "metadata": {
    "collapsed": true
   },
   "outputs": [],
   "source": [
    "data_norm = norm.ppf(y, loc=0, scale=1)"
   ]
  },
  {
   "cell_type": "code",
   "execution_count": 20,
   "metadata": {},
   "outputs": [
    {
     "data": {
      "image/png": "[encoded data removed]",
      "text/plain": [
       "<matplotlib.figure.Figure at 0x97eeacbba8>"
      ]
     },
     "metadata": {},
     "output_type": "display_data"
    }
   ],
   "source": [
    "#==============================\n",
    "# plot by matplotlib\n",
    "#==============================\n",
    "#font size\n",
    "fs=16\n",
    "\n",
    "# graph size\n",
    "fig = plt.figure(figsize=(10,8))\n",
    "\n",
    "#xmin=np.log10(100)\n",
    "#xmax=np.log10(20000)\n",
    "xmin=round(min(x)-1)\n",
    "xmax=round(max(x)+1)\n",
    "ymin=norm.ppf(0.001, loc=0, scale=1)\n",
    "ymax=norm.ppf(0.999, loc=0, scale=1)\n",
    "plt.xlim([xmin,xmax])\n",
    "plt.ylim([ymin,ymax])\n",
    "\n",
    "#plt.tick_params(labelbottom='off')\n",
    "plt.tick_params(labelleft='off')\n",
    "plt.tick_params(which='both', width=0)\n",
    "\n",
    "# data plot\n",
    "plt.plot(x,data_norm,'o')\n",
    "\n",
    "# straight line by regression analysis\n",
    "#plt.plot([xmin, xmax], [(xmin-bb)/aa, (xmax-bb)/aa], color='k', linestyle='-', linewidth=1)\n",
    "\n",
    "# y axis\n",
    "dy_disp=np.array([0.1, 1,10,50,90,99,99.9])\n",
    "_dy=np.array([0.001, 0.01,0.1,0.5,0.9,0.99,0.999])\n",
    "dy=norm.ppf(_dy, loc=0, scale=1)\n",
    "plt.hlines(dy, xmin, xmax, color='grey')\n",
    "\n",
    "for i in range(0,7):\n",
    "    plt.text(xmin-0.02, dy[i], str(dy_disp[i]), ha = 'right', va = 'center', fontsize=fs)\n",
    "#    plt.text(xmin-0.01, dy[i], str(_dy[i]), ha = 'right', va = 'center', fontsize=fs)\n",
    "\n",
    "# x axis\n",
    "#_dx=np.array([100,200,300,400,500,600,700,800,900,1000,2000,3000,4000,5000,6000,7000,8000,9000,10000,20000])\n",
    "#dx=np.array([0,1,2,3,4])\n",
    "#dx=np.log10(_dx)\n",
    "#plt.vlines(dx, ymin, ymax, color='grey')\n",
    "plt.grid(which='major', axis='x', color='grey',linestyle='-')\n",
    "\n",
    "#for i in range(0,6):\n",
    "#    plt.text(float(i), ymin-0.1, str(i), ha = 'center', va = 'top', fontsize=fs)\n",
    "#    plt.text(float(i), ymin-0.1, str(10**i), ha = 'center', va = 'top', fontsize=fs)\n",
    "\n",
    "\n",
    "\n",
    "plt.text(0.5*(xmin+xmax), ymin-0.5, 'test item1', ha = 'center', va = 'center', fontsize=fs)\n",
    "\n",
    "plt.text(xmin-0.25,0.5*(ymin+ymax),'Cumulative mass fraction [%]', ha = 'center', va = 'center', fontsize=fs, rotation=90)\n",
    "\n",
    "# image saving\n",
    "plt.savefig('fig_flood_p.png', bbox_inches=\"tight\", pad_inches=0.2)\n",
    "\n",
    "#show\n",
    "plt.show()"
   ]
  },
  {
   "cell_type": "code",
   "execution_count": null,
   "metadata": {
    "collapsed": true
   },
   "outputs": [],
   "source": []
  }
 ],
 "metadata": {
  "kernelspec": {
   "display_name": "Python 3",
   "language": "python",
   "name": "python3"
  },
  "language_info": {
   "codemirror_mode": {
    "name": "ipython",
    "version": 3
   },
   "file_extension": ".py",
   "mimetype": "text/x-python",
   "name": "python",
   "nbconvert_exporter": "python",
   "pygments_lexer": "ipython3",
   "version": "3.6.3"
  }
 },
 "nbformat": 4,
 "nbformat_minor": 2
}
